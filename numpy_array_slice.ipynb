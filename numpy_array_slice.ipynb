{
  "nbformat": 4,
  "nbformat_minor": 0,
  "metadata": {
    "colab": {
      "name": "numpy_array_slice.ipynb",
      "provenance": []
    },
    "kernelspec": {
      "name": "python3",
      "display_name": "Python 3"
    },
    "language_info": {
      "name": "python"
    }
  },
  "cells": [
    {
      "cell_type": "code",
      "metadata": {
        "colab": {
          "base_uri": "https://localhost:8080/"
        },
        "id": "_S4mTjxWDrl4",
        "outputId": "3ed4c4e0-8ff0-4e63-bbe2-9fc4254b11e1"
      },
      "source": [
        "import numpy as np\n",
        "print(f'NumPy version = {np.__version__}')"
      ],
      "execution_count": 1,
      "outputs": [
        {
          "output_type": "stream",
          "text": [
            "NumPy version = 1.19.5\n"
          ],
          "name": "stdout"
        }
      ]
    },
    {
      "cell_type": "code",
      "metadata": {
        "colab": {
          "base_uri": "https://localhost:8080/"
        },
        "id": "aBiORI2aDweT",
        "outputId": "1bdc788b-7dc8-4187-c31c-d249d956d677"
      },
      "source": [
        "a = np.random.randint(140, 200, 10)\n",
        "a"
      ],
      "execution_count": 2,
      "outputs": [
        {
          "output_type": "execute_result",
          "data": {
            "text/plain": [
              "array([164, 149, 169, 174, 141, 148, 171, 140, 179, 145])"
            ]
          },
          "metadata": {
            "tags": []
          },
          "execution_count": 2
        }
      ]
    },
    {
      "cell_type": "code",
      "metadata": {
        "colab": {
          "base_uri": "https://localhost:8080/"
        },
        "id": "S4YCRnHPDzar",
        "outputId": "0009178f-1244-4931-d0bb-c3b8f8a5d4e9"
      },
      "source": [
        "print(a.shape)\n",
        "print(a.size)\n",
        "print(a.ndim)"
      ],
      "execution_count": 3,
      "outputs": [
        {
          "output_type": "stream",
          "text": [
            "(10,)\n",
            "10\n",
            "1\n"
          ],
          "name": "stdout"
        }
      ]
    },
    {
      "cell_type": "code",
      "metadata": {
        "colab": {
          "base_uri": "https://localhost:8080/"
        },
        "id": "tGFKkGssD228",
        "outputId": "a420442d-4cbb-4405-fca1-d4f891e249dd"
      },
      "source": [
        "a = np.arange(10)\n",
        "a"
      ],
      "execution_count": 5,
      "outputs": [
        {
          "output_type": "execute_result",
          "data": {
            "text/plain": [
              "array([0, 1, 2, 3, 4, 5, 6, 7, 8, 9])"
            ]
          },
          "metadata": {
            "tags": []
          },
          "execution_count": 5
        }
      ]
    },
    {
      "cell_type": "code",
      "metadata": {
        "colab": {
          "base_uri": "https://localhost:8080/"
        },
        "id": "WcNYC1O1D6Ts",
        "outputId": "fcddbe81-d6e5-4ab2-8bec-90299388d156"
      },
      "source": [
        "a[:3]"
      ],
      "execution_count": 6,
      "outputs": [
        {
          "output_type": "execute_result",
          "data": {
            "text/plain": [
              "array([0, 1, 2])"
            ]
          },
          "metadata": {
            "tags": []
          },
          "execution_count": 6
        }
      ]
    },
    {
      "cell_type": "code",
      "metadata": {
        "colab": {
          "base_uri": "https://localhost:8080/"
        },
        "id": "m0d7b5FrD86w",
        "outputId": "a1111df7-3a92-497e-e73c-d92849fb8ab5"
      },
      "source": [
        "a[-1]"
      ],
      "execution_count": 7,
      "outputs": [
        {
          "output_type": "execute_result",
          "data": {
            "text/plain": [
              "9"
            ]
          },
          "metadata": {
            "tags": []
          },
          "execution_count": 7
        }
      ]
    },
    {
      "cell_type": "code",
      "metadata": {
        "colab": {
          "base_uri": "https://localhost:8080/"
        },
        "id": "5ZM6AdGjD-c7",
        "outputId": "284a876f-d17c-4c8e-d9f0-b4c2b7a0098b"
      },
      "source": [
        "a[4:]"
      ],
      "execution_count": 8,
      "outputs": [
        {
          "output_type": "execute_result",
          "data": {
            "text/plain": [
              "array([4, 5, 6, 7, 8, 9])"
            ]
          },
          "metadata": {
            "tags": []
          },
          "execution_count": 8
        }
      ]
    },
    {
      "cell_type": "code",
      "metadata": {
        "colab": {
          "base_uri": "https://localhost:8080/"
        },
        "id": "7XI7fKKfEAM2",
        "outputId": "9d306e4c-12d4-4dc0-fd7e-cb1655aa4ed2"
      },
      "source": [
        "a[2:5]"
      ],
      "execution_count": 9,
      "outputs": [
        {
          "output_type": "execute_result",
          "data": {
            "text/plain": [
              "array([2, 3, 4])"
            ]
          },
          "metadata": {
            "tags": []
          },
          "execution_count": 9
        }
      ]
    },
    {
      "cell_type": "code",
      "metadata": {
        "colab": {
          "base_uri": "https://localhost:8080/"
        },
        "id": "2kfBk-GyECXI",
        "outputId": "fa9d2091-4f93-4b54-8642-4f69aacff8ad"
      },
      "source": [
        "a[::2]"
      ],
      "execution_count": 10,
      "outputs": [
        {
          "output_type": "execute_result",
          "data": {
            "text/plain": [
              "array([0, 2, 4, 6, 8])"
            ]
          },
          "metadata": {
            "tags": []
          },
          "execution_count": 10
        }
      ]
    },
    {
      "cell_type": "code",
      "metadata": {
        "colab": {
          "base_uri": "https://localhost:8080/"
        },
        "id": "4lhvZPrDEDqH",
        "outputId": "8538cd75-4ac8-4d71-9d5f-ba0d0bcdee3b"
      },
      "source": [
        "a[::3]"
      ],
      "execution_count": 11,
      "outputs": [
        {
          "output_type": "execute_result",
          "data": {
            "text/plain": [
              "array([0, 3, 6, 9])"
            ]
          },
          "metadata": {
            "tags": []
          },
          "execution_count": 11
        }
      ]
    },
    {
      "cell_type": "code",
      "metadata": {
        "colab": {
          "base_uri": "https://localhost:8080/"
        },
        "id": "qLpuRiTkEPic",
        "outputId": "e3ceb0a2-23ce-406d-9d8c-bd7c9132a4c9"
      },
      "source": [
        "a[::-1]"
      ],
      "execution_count": 12,
      "outputs": [
        {
          "output_type": "execute_result",
          "data": {
            "text/plain": [
              "array([9, 8, 7, 6, 5, 4, 3, 2, 1, 0])"
            ]
          },
          "metadata": {
            "tags": []
          },
          "execution_count": 12
        }
      ]
    },
    {
      "cell_type": "code",
      "metadata": {
        "colab": {
          "base_uri": "https://localhost:8080/"
        },
        "id": "NZ6iWC9hESDj",
        "outputId": "38c5524e-e2df-4cde-d198-ee4480abaaf3"
      },
      "source": [
        "a"
      ],
      "execution_count": 13,
      "outputs": [
        {
          "output_type": "execute_result",
          "data": {
            "text/plain": [
              "array([0, 1, 2, 3, 4, 5, 6, 7, 8, 9])"
            ]
          },
          "metadata": {
            "tags": []
          },
          "execution_count": 13
        }
      ]
    },
    {
      "cell_type": "code",
      "metadata": {
        "colab": {
          "base_uri": "https://localhost:8080/"
        },
        "id": "-Zhs4Fi6EUtg",
        "outputId": "d319a9f8-c01e-4f7e-cd8d-f27148bf6e02"
      },
      "source": [
        "a[-3:] # last 3 elements"
      ],
      "execution_count": 14,
      "outputs": [
        {
          "output_type": "execute_result",
          "data": {
            "text/plain": [
              "array([7, 8, 9])"
            ]
          },
          "metadata": {
            "tags": []
          },
          "execution_count": 14
        }
      ]
    },
    {
      "cell_type": "code",
      "metadata": {
        "colab": {
          "base_uri": "https://localhost:8080/"
        },
        "id": "k0pnkToqEbEE",
        "outputId": "5f368902-4f5c-4328-a9eb-85ab017fbac6"
      },
      "source": [
        "a[-4:-1]"
      ],
      "execution_count": 15,
      "outputs": [
        {
          "output_type": "execute_result",
          "data": {
            "text/plain": [
              "array([6, 7, 8])"
            ]
          },
          "metadata": {
            "tags": []
          },
          "execution_count": 15
        }
      ]
    },
    {
      "cell_type": "code",
      "metadata": {
        "colab": {
          "base_uri": "https://localhost:8080/"
        },
        "id": "soM1OLVTEc6j",
        "outputId": "699fa2a1-72c1-417b-bf16-0d2cbade2f86"
      },
      "source": [
        "b = np.array(['Mercury', 'Venus', 'Earth', 'Mars', 'Jupiter', 'Saturn', 'Uranus', 'Neptune', 'Pluto'])\n",
        "b"
      ],
      "execution_count": 16,
      "outputs": [
        {
          "output_type": "execute_result",
          "data": {
            "text/plain": [
              "array(['Mercury', 'Venus', 'Earth', 'Mars', 'Jupiter', 'Saturn', 'Uranus',\n",
              "       'Neptune', 'Pluto'], dtype='<U7')"
            ]
          },
          "metadata": {
            "tags": []
          },
          "execution_count": 16
        }
      ]
    },
    {
      "cell_type": "code",
      "metadata": {
        "colab": {
          "base_uri": "https://localhost:8080/",
          "height": 35
        },
        "id": "7rwCiP8VEhfe",
        "outputId": "4f28a12a-23f4-4f0a-a4f2-acca99b05b08"
      },
      "source": [
        "b[2]"
      ],
      "execution_count": 17,
      "outputs": [
        {
          "output_type": "execute_result",
          "data": {
            "application/vnd.google.colaboratory.intrinsic+json": {
              "type": "string"
            },
            "text/plain": [
              "'Earth'"
            ]
          },
          "metadata": {
            "tags": []
          },
          "execution_count": 17
        }
      ]
    },
    {
      "cell_type": "markdown",
      "metadata": {
        "id": "CJ5GEEgAEjDx"
      },
      "source": [
        "# **shoe size**\n",
        "https://en.wikipedia.org/wiki/Shoe_size#Size_conversion"
      ]
    },
    {
      "cell_type": "code",
      "metadata": {
        "colab": {
          "base_uri": "https://localhost:8080/"
        },
        "id": "e1kZNZ2XErYU",
        "outputId": "7ece4b60-161c-4965-e33d-102beb4222f0"
      },
      "source": [
        "a = np.array(['EUR','Mondo','UK','US men','US women'])\n",
        "a"
      ],
      "execution_count": 18,
      "outputs": [
        {
          "output_type": "execute_result",
          "data": {
            "text/plain": [
              "array(['EUR', 'Mondo', 'UK', 'US men', 'US women'], dtype='<U8')"
            ]
          },
          "metadata": {
            "tags": []
          },
          "execution_count": 18
        }
      ]
    },
    {
      "cell_type": "code",
      "metadata": {
        "colab": {
          "base_uri": "https://localhost:8080/"
        },
        "id": "8FdhbD45EukG",
        "outputId": "2859070f-fddf-413a-939f-86e934d053f5"
      },
      "source": [
        "np.argwhere(a == 'UK')"
      ],
      "execution_count": 19,
      "outputs": [
        {
          "output_type": "execute_result",
          "data": {
            "text/plain": [
              "array([[2]])"
            ]
          },
          "metadata": {
            "tags": []
          },
          "execution_count": 19
        }
      ]
    },
    {
      "cell_type": "code",
      "metadata": {
        "colab": {
          "base_uri": "https://localhost:8080/"
        },
        "id": "WMRvzvH6EyPb",
        "outputId": "9c842f27-0611-4d45-b588-764629487cc8"
      },
      "source": [
        "np.where(a == 'UK')"
      ],
      "execution_count": 20,
      "outputs": [
        {
          "output_type": "execute_result",
          "data": {
            "text/plain": [
              "(array([2]),)"
            ]
          },
          "metadata": {
            "tags": []
          },
          "execution_count": 20
        }
      ]
    },
    {
      "cell_type": "code",
      "metadata": {
        "id": "-stE05g8E2Zk"
      },
      "source": [
        "shoe_size = np.array([[34,215,2,3,4],[34.5,215,2.5,3.5,4.5],[35,220,3,4,5],[35.5,225,3.5,4.5,5.5],[36,225,4,5,6],[36.5,230,4,5,6],[37,235,4.5,5.5,6.5],[37.5,235,5,6,7],[38,240,5.5,6.5,7.5],[38.5,245,5.5,6.5,7.5],[39,245,6,7,8],[39.5,250,6.5,7.5,8.5],[40,255,7,8,9],[40.5,255,7.5,8.5,9.5],[41,260,7.5,8.5,9.5],[41.5,265,8,9,10],[42,265,8.5,9.5,10.5],[42.5,270,9,10,11],[43,275,9.5,10.5,11.5],[43.5,275,9.5,10.5,11.5],[44,280,10,11,12],[44.5,285,10.5,11.5,12.5],[45,285,11,12,13],[45.5,290,11.5,12.5,13.5],[46,295,11.5,12.5,13.5],[46.5,295,12,13,14],[47,300,12.5,13.5,14.5],[47.5,305,13,14,15],[48,305,13,14,15],[48.5,310,13.5,14.5,15.5],[49,315,14,15,16],[49.5,315,14.5,15.5,16.5],[50,320,15,16,17]])"
      ],
      "execution_count": 21,
      "outputs": []
    },
    {
      "cell_type": "code",
      "metadata": {
        "colab": {
          "base_uri": "https://localhost:8080/"
        },
        "id": "apCXWiPOE6x1",
        "outputId": "df4f04f9-bf73-4502-ba2c-b7bb3aff122f"
      },
      "source": [
        "shoe_size"
      ],
      "execution_count": 22,
      "outputs": [
        {
          "output_type": "execute_result",
          "data": {
            "text/plain": [
              "array([[ 34. , 215. ,   2. ,   3. ,   4. ],\n",
              "       [ 34.5, 215. ,   2.5,   3.5,   4.5],\n",
              "       [ 35. , 220. ,   3. ,   4. ,   5. ],\n",
              "       [ 35.5, 225. ,   3.5,   4.5,   5.5],\n",
              "       [ 36. , 225. ,   4. ,   5. ,   6. ],\n",
              "       [ 36.5, 230. ,   4. ,   5. ,   6. ],\n",
              "       [ 37. , 235. ,   4.5,   5.5,   6.5],\n",
              "       [ 37.5, 235. ,   5. ,   6. ,   7. ],\n",
              "       [ 38. , 240. ,   5.5,   6.5,   7.5],\n",
              "       [ 38.5, 245. ,   5.5,   6.5,   7.5],\n",
              "       [ 39. , 245. ,   6. ,   7. ,   8. ],\n",
              "       [ 39.5, 250. ,   6.5,   7.5,   8.5],\n",
              "       [ 40. , 255. ,   7. ,   8. ,   9. ],\n",
              "       [ 40.5, 255. ,   7.5,   8.5,   9.5],\n",
              "       [ 41. , 260. ,   7.5,   8.5,   9.5],\n",
              "       [ 41.5, 265. ,   8. ,   9. ,  10. ],\n",
              "       [ 42. , 265. ,   8.5,   9.5,  10.5],\n",
              "       [ 42.5, 270. ,   9. ,  10. ,  11. ],\n",
              "       [ 43. , 275. ,   9.5,  10.5,  11.5],\n",
              "       [ 43.5, 275. ,   9.5,  10.5,  11.5],\n",
              "       [ 44. , 280. ,  10. ,  11. ,  12. ],\n",
              "       [ 44.5, 285. ,  10.5,  11.5,  12.5],\n",
              "       [ 45. , 285. ,  11. ,  12. ,  13. ],\n",
              "       [ 45.5, 290. ,  11.5,  12.5,  13.5],\n",
              "       [ 46. , 295. ,  11.5,  12.5,  13.5],\n",
              "       [ 46.5, 295. ,  12. ,  13. ,  14. ],\n",
              "       [ 47. , 300. ,  12.5,  13.5,  14.5],\n",
              "       [ 47.5, 305. ,  13. ,  14. ,  15. ],\n",
              "       [ 48. , 305. ,  13. ,  14. ,  15. ],\n",
              "       [ 48.5, 310. ,  13.5,  14.5,  15.5],\n",
              "       [ 49. , 315. ,  14. ,  15. ,  16. ],\n",
              "       [ 49.5, 315. ,  14.5,  15.5,  16.5],\n",
              "       [ 50. , 320. ,  15. ,  16. ,  17. ]])"
            ]
          },
          "metadata": {
            "tags": []
          },
          "execution_count": 22
        }
      ]
    },
    {
      "cell_type": "code",
      "metadata": {
        "colab": {
          "base_uri": "https://localhost:8080/"
        },
        "id": "yfDOkM8nE8hi",
        "outputId": "2bb6cc57-c9f8-44d6-8eee-059f102f12a4"
      },
      "source": [
        "shoe_size[2]"
      ],
      "execution_count": 23,
      "outputs": [
        {
          "output_type": "execute_result",
          "data": {
            "text/plain": [
              "array([ 35., 220.,   3.,   4.,   5.])"
            ]
          },
          "metadata": {
            "tags": []
          },
          "execution_count": 23
        }
      ]
    },
    {
      "cell_type": "code",
      "metadata": {
        "colab": {
          "base_uri": "https://localhost:8080/"
        },
        "id": "2GoRmbehE_hQ",
        "outputId": "8bb1d6e2-c6b3-43be-97a5-68c6421512d7"
      },
      "source": [
        "shoe_size[:, 2]"
      ],
      "execution_count": 24,
      "outputs": [
        {
          "output_type": "execute_result",
          "data": {
            "text/plain": [
              "array([ 2. ,  2.5,  3. ,  3.5,  4. ,  4. ,  4.5,  5. ,  5.5,  5.5,  6. ,\n",
              "        6.5,  7. ,  7.5,  7.5,  8. ,  8.5,  9. ,  9.5,  9.5, 10. , 10.5,\n",
              "       11. , 11.5, 11.5, 12. , 12.5, 13. , 13. , 13.5, 14. , 14.5, 15. ])"
            ]
          },
          "metadata": {
            "tags": []
          },
          "execution_count": 24
        }
      ]
    },
    {
      "cell_type": "code",
      "metadata": {
        "colab": {
          "base_uri": "https://localhost:8080/"
        },
        "id": "ZlFxDdYQFEPQ",
        "outputId": "e0c255d3-5c45-4389-e1c8-4afa9814d3a5"
      },
      "source": [
        "shoe_size[:, 0] == 41"
      ],
      "execution_count": 25,
      "outputs": [
        {
          "output_type": "execute_result",
          "data": {
            "text/plain": [
              "array([False, False, False, False, False, False, False, False, False,\n",
              "       False, False, False, False, False,  True, False, False, False,\n",
              "       False, False, False, False, False, False, False, False, False,\n",
              "       False, False, False, False, False, False])"
            ]
          },
          "metadata": {
            "tags": []
          },
          "execution_count": 25
        }
      ]
    },
    {
      "cell_type": "code",
      "metadata": {
        "colab": {
          "base_uri": "https://localhost:8080/"
        },
        "id": "__Epr5CqFNs-",
        "outputId": "bc649cac-4219-4ffa-b9d8-f8a967836dfa"
      },
      "source": [
        "shoe_size[shoe_size[:, 0] == 41]"
      ],
      "execution_count": 26,
      "outputs": [
        {
          "output_type": "execute_result",
          "data": {
            "text/plain": [
              "array([[ 41. , 260. ,   7.5,   8.5,   9.5]])"
            ]
          },
          "metadata": {
            "tags": []
          },
          "execution_count": 26
        }
      ]
    },
    {
      "cell_type": "code",
      "metadata": {
        "colab": {
          "base_uri": "https://localhost:8080/"
        },
        "id": "K4tpn6IqFUfy",
        "outputId": "d79e9dc8-3527-4f9b-8840-847e10b2cbd4"
      },
      "source": [
        "shoe_size[:, 1:][shoe_size[:, 0] == 41]"
      ],
      "execution_count": 27,
      "outputs": [
        {
          "output_type": "execute_result",
          "data": {
            "text/plain": [
              "array([[260. ,   7.5,   8.5,   9.5]])"
            ]
          },
          "metadata": {
            "tags": []
          },
          "execution_count": 27
        }
      ]
    },
    {
      "cell_type": "code",
      "metadata": {
        "colab": {
          "base_uri": "https://localhost:8080/"
        },
        "id": "W5zn_e5QFanl",
        "outputId": "d0f75ee0-68d8-49dd-d165-71a29a25905c"
      },
      "source": [
        "shoe_size[:, 3][shoe_size[:, 0] == 41]\n"
      ],
      "execution_count": 28,
      "outputs": [
        {
          "output_type": "execute_result",
          "data": {
            "text/plain": [
              "array([8.5])"
            ]
          },
          "metadata": {
            "tags": []
          },
          "execution_count": 28
        }
      ]
    },
    {
      "cell_type": "code",
      "metadata": {
        "colab": {
          "base_uri": "https://localhost:8080/"
        },
        "id": "r_dr3unPFiEf",
        "outputId": "54d7b4ab-1c73-4e13-8458-7d9df0b7e016"
      },
      "source": [
        "shoe_size[:, 3][shoe_size[:, 0] == 41]"
      ],
      "execution_count": 29,
      "outputs": [
        {
          "output_type": "execute_result",
          "data": {
            "text/plain": [
              "array([8.5])"
            ]
          },
          "metadata": {
            "tags": []
          },
          "execution_count": 29
        }
      ]
    },
    {
      "cell_type": "code",
      "metadata": {
        "colab": {
          "base_uri": "https://localhost:8080/"
        },
        "id": "UiTzoAYQFlmr",
        "outputId": "acef6c85-8fe4-4eac-c6b3-e0777aba0df3"
      },
      "source": [
        "a"
      ],
      "execution_count": 30,
      "outputs": [
        {
          "output_type": "execute_result",
          "data": {
            "text/plain": [
              "array(['EUR', 'Mondo', 'UK', 'US men', 'US women'], dtype='<U8')"
            ]
          },
          "metadata": {
            "tags": []
          },
          "execution_count": 30
        }
      ]
    },
    {
      "cell_type": "code",
      "metadata": {
        "colab": {
          "base_uri": "https://localhost:8080/"
        },
        "id": "OO1FNtu9FpOj",
        "outputId": "466542bb-717a-4c00-be13-e9204c8e1b64"
      },
      "source": [
        "i, = np.where(a == 'UK')\n",
        "i"
      ],
      "execution_count": 31,
      "outputs": [
        {
          "output_type": "execute_result",
          "data": {
            "text/plain": [
              "array([2])"
            ]
          },
          "metadata": {
            "tags": []
          },
          "execution_count": 31
        }
      ]
    },
    {
      "cell_type": "code",
      "metadata": {
        "colab": {
          "base_uri": "https://localhost:8080/"
        },
        "id": "64LqpbG3FrW8",
        "outputId": "a734faca-f204-4384-d956-d9b8b5c0de18"
      },
      "source": [
        "shoe_size[:, np.where(a == 'US men')][shoe_size[:, 0] == 41]"
      ],
      "execution_count": 32,
      "outputs": [
        {
          "output_type": "execute_result",
          "data": {
            "text/plain": [
              "array([[[8.5]]])"
            ]
          },
          "metadata": {
            "tags": []
          },
          "execution_count": 32
        }
      ]
    },
    {
      "cell_type": "code",
      "metadata": {
        "colab": {
          "base_uri": "https://localhost:8080/",
          "height": 35
        },
        "id": "OD8QH9QMFtUh",
        "outputId": "a7ccbadf-661b-4db7-d605-ff7b31175eff"
      },
      "source": [
        "a[2]"
      ],
      "execution_count": 33,
      "outputs": [
        {
          "output_type": "execute_result",
          "data": {
            "application/vnd.google.colaboratory.intrinsic+json": {
              "type": "string"
            },
            "text/plain": [
              "'UK'"
            ]
          },
          "metadata": {
            "tags": []
          },
          "execution_count": 33
        }
      ]
    },
    {
      "cell_type": "code",
      "metadata": {
        "colab": {
          "base_uri": "https://localhost:8080/"
        },
        "id": "42cfuhi5Fyc8",
        "outputId": "538ac20f-03cd-4029-c7ca-c5542aebc817"
      },
      "source": [
        "a[i]"
      ],
      "execution_count": 34,
      "outputs": [
        {
          "output_type": "execute_result",
          "data": {
            "text/plain": [
              "array(['UK'], dtype='<U8')"
            ]
          },
          "metadata": {
            "tags": []
          },
          "execution_count": 34
        }
      ]
    },
    {
      "cell_type": "code",
      "metadata": {
        "colab": {
          "base_uri": "https://localhost:8080/"
        },
        "id": "FwsBNmXYFz9J",
        "outputId": "ae4c3d97-dca3-455a-d562-398acf4f77bb"
      },
      "source": [
        "i, = np.where((a == 'UK') | (a == 'US men'))\n",
        "i"
      ],
      "execution_count": 35,
      "outputs": [
        {
          "output_type": "execute_result",
          "data": {
            "text/plain": [
              "array([2, 3])"
            ]
          },
          "metadata": {
            "tags": []
          },
          "execution_count": 35
        }
      ]
    },
    {
      "cell_type": "code",
      "metadata": {
        "colab": {
          "base_uri": "https://localhost:8080/"
        },
        "id": "7T-_k14eF1oe",
        "outputId": "e3eab0a0-ab44-4f02-a1b7-32b68bddd131"
      },
      "source": [
        "shoe_size[:, np.where((a == 'UK') | (a == 'US men'))][shoe_size[:, 0] == 41]"
      ],
      "execution_count": 36,
      "outputs": [
        {
          "output_type": "execute_result",
          "data": {
            "text/plain": [
              "array([[[7.5, 8.5]]])"
            ]
          },
          "metadata": {
            "tags": []
          },
          "execution_count": 36
        }
      ]
    },
    {
      "cell_type": "code",
      "metadata": {
        "id": "frENdV8XF4zg"
      },
      "source": [
        ""
      ],
      "execution_count": null,
      "outputs": []
    }
  ]
}