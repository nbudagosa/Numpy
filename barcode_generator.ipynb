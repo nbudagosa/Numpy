{
  "nbformat": 4,
  "nbformat_minor": 0,
  "metadata": {
    "colab": {
      "name": "barcode_generator.ipynb",
      "provenance": []
    },
    "kernelspec": {
      "name": "python3",
      "display_name": "Python 3"
    },
    "language_info": {
      "name": "python"
    }
  },
  "cells": [
    {
      "cell_type": "code",
      "metadata": {
        "colab": {
          "base_uri": "https://localhost:8080/"
        },
        "id": "L_uBEfjZ0zw-",
        "outputId": "85ff2a0a-aa3b-4966-d792-1f4c79495a52"
      },
      "source": [
        "!pip install python-barcode"
      ],
      "execution_count": 4,
      "outputs": [
        {
          "output_type": "stream",
          "text": [
            "Collecting python-barcode\n",
            "\u001b[?25l  Downloading https://files.pythonhosted.org/packages/4e/aa/90966e1caf4d630b2bb420084c9eaa14a7d2ddc8e8a4311cd55ac90753a8/python_barcode-0.13.1-py3-none-any.whl (217kB)\n",
            "\r\u001b[K     |█▌                              | 10kB 15.1MB/s eta 0:00:01\r\u001b[K     |███                             | 20kB 21.3MB/s eta 0:00:01\r\u001b[K     |████▌                           | 30kB 12.9MB/s eta 0:00:01\r\u001b[K     |██████                          | 40kB 9.5MB/s eta 0:00:01\r\u001b[K     |███████▌                        | 51kB 8.6MB/s eta 0:00:01\r\u001b[K     |█████████                       | 61kB 7.9MB/s eta 0:00:01\r\u001b[K     |██████████▋                     | 71kB 8.4MB/s eta 0:00:01\r\u001b[K     |████████████                    | 81kB 9.2MB/s eta 0:00:01\r\u001b[K     |█████████████▋                  | 92kB 8.2MB/s eta 0:00:01\r\u001b[K     |███████████████                 | 102kB 8.5MB/s eta 0:00:01\r\u001b[K     |████████████████▋               | 112kB 8.5MB/s eta 0:00:01\r\u001b[K     |██████████████████              | 122kB 8.5MB/s eta 0:00:01\r\u001b[K     |███████████████████▋            | 133kB 8.5MB/s eta 0:00:01\r\u001b[K     |█████████████████████▏          | 143kB 8.5MB/s eta 0:00:01\r\u001b[K     |██████████████████████▋         | 153kB 8.5MB/s eta 0:00:01\r\u001b[K     |████████████████████████▏       | 163kB 8.5MB/s eta 0:00:01\r\u001b[K     |█████████████████████████▋      | 174kB 8.5MB/s eta 0:00:01\r\u001b[K     |███████████████████████████▏    | 184kB 8.5MB/s eta 0:00:01\r\u001b[K     |████████████████████████████▋   | 194kB 8.5MB/s eta 0:00:01\r\u001b[K     |██████████████████████████████▏ | 204kB 8.5MB/s eta 0:00:01\r\u001b[K     |███████████████████████████████▊| 215kB 8.5MB/s eta 0:00:01\r\u001b[K     |████████████████████████████████| 225kB 8.5MB/s \n",
            "\u001b[?25hInstalling collected packages: python-barcode\n",
            "Successfully installed python-barcode-0.13.1\n"
          ],
          "name": "stdout"
        }
      ]
    },
    {
      "cell_type": "code",
      "metadata": {
        "id": "dNmzK41d0L1A"
      },
      "source": [
        "import barcode\n",
        "from IPython.display import SVG, display"
      ],
      "execution_count": 5,
      "outputs": []
    },
    {
      "cell_type": "code",
      "metadata": {
        "colab": {
          "base_uri": "https://localhost:8080/"
        },
        "id": "_JdSWa3D0YYW",
        "outputId": "68cb0e32-70d5-4299-f48c-33af2a94d67b"
      },
      "source": [
        "barcode.PROVIDED_BARCODES"
      ],
      "execution_count": 6,
      "outputs": [
        {
          "output_type": "execute_result",
          "data": {
            "text/plain": [
              "['code128',\n",
              " 'code39',\n",
              " 'ean',\n",
              " 'ean13',\n",
              " 'ean14',\n",
              " 'ean8',\n",
              " 'gs1',\n",
              " 'gs1_128',\n",
              " 'gtin',\n",
              " 'isbn',\n",
              " 'isbn10',\n",
              " 'isbn13',\n",
              " 'issn',\n",
              " 'itf',\n",
              " 'jan',\n",
              " 'pzn',\n",
              " 'upc',\n",
              " 'upca']"
            ]
          },
          "metadata": {
            "tags": []
          },
          "execution_count": 6
        }
      ]
    },
    {
      "cell_type": "markdown",
      "metadata": {
        "id": "gVFbEhxt08iB"
      },
      "source": [
        "##Method 1"
      ]
    },
    {
      "cell_type": "code",
      "metadata": {
        "id": "gryuxGmA1DD1"
      },
      "source": [
        "EAN = barcode.get_barcode_class('ean13')"
      ],
      "execution_count": 7,
      "outputs": []
    },
    {
      "cell_type": "code",
      "metadata": {
        "id": "MHCp6rIR1Kz8"
      },
      "source": [
        "ean = EAN('8858833804101')"
      ],
      "execution_count": 8,
      "outputs": []
    },
    {
      "cell_type": "code",
      "metadata": {
        "colab": {
          "base_uri": "https://localhost:8080/"
        },
        "id": "f4fjdfx51Q4c",
        "outputId": "b616617c-9ac1-4a06-e9c8-3f6122a187ef"
      },
      "source": [
        "ean"
      ],
      "execution_count": 9,
      "outputs": [
        {
          "output_type": "execute_result",
          "data": {
            "text/plain": [
              "<EuropeanArticleNumber13('8858833804102')>"
            ]
          },
          "metadata": {
            "tags": []
          },
          "execution_count": 9
        }
      ]
    },
    {
      "cell_type": "code",
      "metadata": {
        "id": "Bsy9B-4q1RmQ"
      },
      "source": [
        "fullname = ean.save('ean13_barcode') # svg format"
      ],
      "execution_count": 10,
      "outputs": []
    },
    {
      "cell_type": "code",
      "metadata": {
        "colab": {
          "base_uri": "https://localhost:8080/",
          "height": 35
        },
        "id": "buhRfhga1YSc",
        "outputId": "5c2d1018-9934-49a4-d02e-f326d3e116c7"
      },
      "source": [
        "fullname"
      ],
      "execution_count": 11,
      "outputs": [
        {
          "output_type": "execute_result",
          "data": {
            "application/vnd.google.colaboratory.intrinsic+json": {
              "type": "string"
            },
            "text/plain": [
              "'ean13_barcode.svg'"
            ]
          },
          "metadata": {
            "tags": []
          },
          "execution_count": 11
        }
      ]
    },
    {
      "cell_type": "code",
      "metadata": {
        "colab": {
          "base_uri": "https://localhost:8080/",
          "height": 108
        },
        "id": "ZWC2awjI1ZiG",
        "outputId": "7fbf3042-fb77-4fa9-ccf5-528f937a93fc"
      },
      "source": [
        "display(SVG(fullname))"
      ],
      "execution_count": 12,
      "outputs": [
        {
          "output_type": "display_data",
          "data": {
            "text/plain": [
              "<IPython.core.display.SVG object>"
            ],
            "image/svg+xml": "<svg height=\"23.000mm\" version=\"1.1\" width=\"44.000mm\" xmlns=\"http://www.w3.org/2000/svg\">\n    <!--Autogenerated with python-barcode 0.13.1-->\n    <g id=\"barcode_group\">\n        <rect height=\"100%\" style=\"fill:white\" width=\"100%\"/>\n        <rect height=\"15.000mm\" style=\"fill:black;\" width=\"0.330mm\" x=\"6.500mm\" y=\"1.000mm\"/>\n        <rect height=\"15.000mm\" style=\"fill:white;\" width=\"0.330mm\" x=\"6.830mm\" y=\"1.000mm\"/>\n        <rect height=\"15.000mm\" style=\"fill:black;\" width=\"0.330mm\" x=\"7.160mm\" y=\"1.000mm\"/>\n        <rect height=\"15.000mm\" style=\"fill:white;\" width=\"0.330mm\" x=\"7.490mm\" y=\"1.000mm\"/>\n        <rect height=\"15.000mm\" style=\"fill:black;\" width=\"0.660mm\" x=\"7.820mm\" y=\"1.000mm\"/>\n        <rect height=\"15.000mm\" style=\"fill:white;\" width=\"0.330mm\" x=\"8.480mm\" y=\"1.000mm\"/>\n        <rect height=\"15.000mm\" style=\"fill:black;\" width=\"0.990mm\" x=\"8.810mm\" y=\"1.000mm\"/>\n        <rect height=\"15.000mm\" style=\"fill:white;\" width=\"0.330mm\" x=\"9.800mm\" y=\"1.000mm\"/>\n        <rect height=\"15.000mm\" style=\"fill:black;\" width=\"0.990mm\" x=\"10.130mm\" y=\"1.000mm\"/>\n        <rect height=\"15.000mm\" style=\"fill:white;\" width=\"0.660mm\" x=\"11.120mm\" y=\"1.000mm\"/>\n        <rect height=\"15.000mm\" style=\"fill:black;\" width=\"0.330mm\" x=\"11.780mm\" y=\"1.000mm\"/>\n        <rect height=\"15.000mm\" style=\"fill:white;\" width=\"0.330mm\" x=\"12.110mm\" y=\"1.000mm\"/>\n        <rect height=\"15.000mm\" style=\"fill:black;\" width=\"0.660mm\" x=\"12.440mm\" y=\"1.000mm\"/>\n        <rect height=\"15.000mm\" style=\"fill:white;\" width=\"0.330mm\" x=\"13.100mm\" y=\"1.000mm\"/>\n        <rect height=\"15.000mm\" style=\"fill:black;\" width=\"0.990mm\" x=\"13.430mm\" y=\"1.000mm\"/>\n        <rect height=\"15.000mm\" style=\"fill:white;\" width=\"0.990mm\" x=\"14.420mm\" y=\"1.000mm\"/>\n        <rect height=\"15.000mm\" style=\"fill:black;\" width=\"0.330mm\" x=\"15.410mm\" y=\"1.000mm\"/>\n        <rect height=\"15.000mm\" style=\"fill:white;\" width=\"0.660mm\" x=\"15.740mm\" y=\"1.000mm\"/>\n        <rect height=\"15.000mm\" style=\"fill:black;\" width=\"0.330mm\" x=\"16.400mm\" y=\"1.000mm\"/>\n        <rect height=\"15.000mm\" style=\"fill:white;\" width=\"0.330mm\" x=\"16.730mm\" y=\"1.000mm\"/>\n        <rect height=\"15.000mm\" style=\"fill:black;\" width=\"0.330mm\" x=\"17.060mm\" y=\"1.000mm\"/>\n        <rect height=\"15.000mm\" style=\"fill:white;\" width=\"1.320mm\" x=\"17.390mm\" y=\"1.000mm\"/>\n        <rect height=\"15.000mm\" style=\"fill:black;\" width=\"0.330mm\" x=\"18.710mm\" y=\"1.000mm\"/>\n        <rect height=\"15.000mm\" style=\"fill:white;\" width=\"0.330mm\" x=\"19.040mm\" y=\"1.000mm\"/>\n        <rect height=\"15.000mm\" style=\"fill:black;\" width=\"1.320mm\" x=\"19.370mm\" y=\"1.000mm\"/>\n        <rect height=\"15.000mm\" style=\"fill:white;\" width=\"0.330mm\" x=\"20.690mm\" y=\"1.000mm\"/>\n        <rect height=\"15.000mm\" style=\"fill:black;\" width=\"0.330mm\" x=\"21.020mm\" y=\"1.000mm\"/>\n        <rect height=\"15.000mm\" style=\"fill:white;\" width=\"0.330mm\" x=\"21.350mm\" y=\"1.000mm\"/>\n        <rect height=\"15.000mm\" style=\"fill:black;\" width=\"0.330mm\" x=\"21.680mm\" y=\"1.000mm\"/>\n        <rect height=\"15.000mm\" style=\"fill:white;\" width=\"0.330mm\" x=\"22.010mm\" y=\"1.000mm\"/>\n        <rect height=\"15.000mm\" style=\"fill:black;\" width=\"0.330mm\" x=\"22.340mm\" y=\"1.000mm\"/>\n        <rect height=\"15.000mm\" style=\"fill:white;\" width=\"0.330mm\" x=\"22.670mm\" y=\"1.000mm\"/>\n        <rect height=\"15.000mm\" style=\"fill:black;\" width=\"0.330mm\" x=\"23.000mm\" y=\"1.000mm\"/>\n        <rect height=\"15.000mm\" style=\"fill:white;\" width=\"0.660mm\" x=\"23.330mm\" y=\"1.000mm\"/>\n        <rect height=\"15.000mm\" style=\"fill:black;\" width=\"0.330mm\" x=\"23.990mm\" y=\"1.000mm\"/>\n        <rect height=\"15.000mm\" style=\"fill:white;\" width=\"0.990mm\" x=\"24.320mm\" y=\"1.000mm\"/>\n        <rect height=\"15.000mm\" style=\"fill:black;\" width=\"0.990mm\" x=\"25.310mm\" y=\"1.000mm\"/>\n        <rect height=\"15.000mm\" style=\"fill:white;\" width=\"0.660mm\" x=\"26.300mm\" y=\"1.000mm\"/>\n        <rect height=\"15.000mm\" style=\"fill:black;\" width=\"0.330mm\" x=\"26.960mm\" y=\"1.000mm\"/>\n        <rect height=\"15.000mm\" style=\"fill:white;\" width=\"0.330mm\" x=\"27.290mm\" y=\"1.000mm\"/>\n        <rect height=\"15.000mm\" style=\"fill:black;\" width=\"0.330mm\" x=\"27.620mm\" y=\"1.000mm\"/>\n        <rect height=\"15.000mm\" style=\"fill:white;\" width=\"0.330mm\" x=\"27.950mm\" y=\"1.000mm\"/>\n        <rect height=\"15.000mm\" style=\"fill:black;\" width=\"0.990mm\" x=\"28.280mm\" y=\"1.000mm\"/>\n        <rect height=\"15.000mm\" style=\"fill:white;\" width=\"0.660mm\" x=\"29.270mm\" y=\"1.000mm\"/>\n        <rect height=\"15.000mm\" style=\"fill:black;\" width=\"0.660mm\" x=\"29.930mm\" y=\"1.000mm\"/>\n        <rect height=\"15.000mm\" style=\"fill:white;\" width=\"0.660mm\" x=\"30.590mm\" y=\"1.000mm\"/>\n        <rect height=\"15.000mm\" style=\"fill:black;\" width=\"0.660mm\" x=\"31.250mm\" y=\"1.000mm\"/>\n        <rect height=\"15.000mm\" style=\"fill:white;\" width=\"0.330mm\" x=\"31.910mm\" y=\"1.000mm\"/>\n        <rect height=\"15.000mm\" style=\"fill:black;\" width=\"0.990mm\" x=\"32.240mm\" y=\"1.000mm\"/>\n        <rect height=\"15.000mm\" style=\"fill:white;\" width=\"0.660mm\" x=\"33.230mm\" y=\"1.000mm\"/>\n        <rect height=\"15.000mm\" style=\"fill:black;\" width=\"0.330mm\" x=\"33.890mm\" y=\"1.000mm\"/>\n        <rect height=\"15.000mm\" style=\"fill:white;\" width=\"0.330mm\" x=\"34.220mm\" y=\"1.000mm\"/>\n        <rect height=\"15.000mm\" style=\"fill:black;\" width=\"0.660mm\" x=\"34.550mm\" y=\"1.000mm\"/>\n        <rect height=\"15.000mm\" style=\"fill:white;\" width=\"0.330mm\" x=\"35.210mm\" y=\"1.000mm\"/>\n        <rect height=\"15.000mm\" style=\"fill:black;\" width=\"0.660mm\" x=\"35.540mm\" y=\"1.000mm\"/>\n        <rect height=\"15.000mm\" style=\"fill:white;\" width=\"0.660mm\" x=\"36.200mm\" y=\"1.000mm\"/>\n        <rect height=\"15.000mm\" style=\"fill:black;\" width=\"0.330mm\" x=\"36.860mm\" y=\"1.000mm\"/>\n        <rect height=\"15.000mm\" style=\"fill:white;\" width=\"0.330mm\" x=\"37.190mm\" y=\"1.000mm\"/>\n        <rect height=\"15.000mm\" style=\"fill:black;\" width=\"0.330mm\" x=\"37.520mm\" y=\"1.000mm\"/>\n        <text style=\"fill:black;font-size:10pt;text-anchor:middle;\" x=\"22.175mm\" y=\"21.000mm\">8858833804102</text>\n    </g>\n</svg>"
          },
          "metadata": {
            "tags": []
          }
        }
      ]
    },
    {
      "cell_type": "markdown",
      "metadata": {
        "id": "McqjPJc11cpO"
      },
      "source": [
        "##Method 2"
      ]
    },
    {
      "cell_type": "code",
      "metadata": {
        "id": "j3phzvg51iwL"
      },
      "source": [
        "from barcode import generate"
      ],
      "execution_count": 13,
      "outputs": []
    },
    {
      "cell_type": "code",
      "metadata": {
        "id": "abbKRO1h1n2l"
      },
      "source": [
        "svg_img=generate('EAN13', '5901234123457',\n",
        "                 output='barcode1')"
      ],
      "execution_count": 14,
      "outputs": []
    },
    {
      "cell_type": "code",
      "metadata": {
        "colab": {
          "base_uri": "https://localhost:8080/",
          "height": 108
        },
        "id": "8sZOzI4f1yC3",
        "outputId": "931a9372-b245-47e1-a99a-4551a6d31b9f"
      },
      "source": [
        "display(SVG('barcode1.svg'))"
      ],
      "execution_count": 15,
      "outputs": [
        {
          "output_type": "display_data",
          "data": {
            "text/plain": [
              "<IPython.core.display.SVG object>"
            ],
            "image/svg+xml": "<svg height=\"23.000mm\" version=\"1.1\" width=\"44.000mm\" xmlns=\"http://www.w3.org/2000/svg\">\n    <!--Autogenerated with python-barcode 0.13.1-->\n    <g id=\"barcode_group\">\n        <rect height=\"100%\" style=\"fill:white\" width=\"100%\"/>\n        <rect height=\"15.000mm\" style=\"fill:black;\" width=\"0.330mm\" x=\"6.500mm\" y=\"1.000mm\"/>\n        <rect height=\"15.000mm\" style=\"fill:white;\" width=\"0.330mm\" x=\"6.830mm\" y=\"1.000mm\"/>\n        <rect height=\"15.000mm\" style=\"fill:black;\" width=\"0.330mm\" x=\"7.160mm\" y=\"1.000mm\"/>\n        <rect height=\"15.000mm\" style=\"fill:white;\" width=\"0.990mm\" x=\"7.490mm\" y=\"1.000mm\"/>\n        <rect height=\"15.000mm\" style=\"fill:black;\" width=\"0.330mm\" x=\"8.480mm\" y=\"1.000mm\"/>\n        <rect height=\"15.000mm\" style=\"fill:white;\" width=\"0.330mm\" x=\"8.810mm\" y=\"1.000mm\"/>\n        <rect height=\"15.000mm\" style=\"fill:black;\" width=\"0.660mm\" x=\"9.140mm\" y=\"1.000mm\"/>\n        <rect height=\"15.000mm\" style=\"fill:white;\" width=\"0.330mm\" x=\"9.800mm\" y=\"1.000mm\"/>\n        <rect height=\"15.000mm\" style=\"fill:black;\" width=\"0.330mm\" x=\"10.130mm\" y=\"1.000mm\"/>\n        <rect height=\"15.000mm\" style=\"fill:white;\" width=\"0.660mm\" x=\"10.460mm\" y=\"1.000mm\"/>\n        <rect height=\"15.000mm\" style=\"fill:black;\" width=\"0.990mm\" x=\"11.120mm\" y=\"1.000mm\"/>\n        <rect height=\"15.000mm\" style=\"fill:white;\" width=\"0.330mm\" x=\"12.110mm\" y=\"1.000mm\"/>\n        <rect height=\"15.000mm\" style=\"fill:black;\" width=\"0.660mm\" x=\"12.440mm\" y=\"1.000mm\"/>\n        <rect height=\"15.000mm\" style=\"fill:white;\" width=\"0.660mm\" x=\"13.100mm\" y=\"1.000mm\"/>\n        <rect height=\"15.000mm\" style=\"fill:black;\" width=\"0.660mm\" x=\"13.760mm\" y=\"1.000mm\"/>\n        <rect height=\"15.000mm\" style=\"fill:white;\" width=\"0.660mm\" x=\"14.420mm\" y=\"1.000mm\"/>\n        <rect height=\"15.000mm\" style=\"fill:black;\" width=\"0.330mm\" x=\"15.080mm\" y=\"1.000mm\"/>\n        <rect height=\"15.000mm\" style=\"fill:white;\" width=\"0.660mm\" x=\"15.410mm\" y=\"1.000mm\"/>\n        <rect height=\"15.000mm\" style=\"fill:black;\" width=\"0.660mm\" x=\"16.070mm\" y=\"1.000mm\"/>\n        <rect height=\"15.000mm\" style=\"fill:white;\" width=\"0.330mm\" x=\"16.730mm\" y=\"1.000mm\"/>\n        <rect height=\"15.000mm\" style=\"fill:black;\" width=\"1.320mm\" x=\"17.060mm\" y=\"1.000mm\"/>\n        <rect height=\"15.000mm\" style=\"fill:white;\" width=\"0.330mm\" x=\"18.380mm\" y=\"1.000mm\"/>\n        <rect height=\"15.000mm\" style=\"fill:black;\" width=\"0.330mm\" x=\"18.710mm\" y=\"1.000mm\"/>\n        <rect height=\"15.000mm\" style=\"fill:white;\" width=\"0.660mm\" x=\"19.040mm\" y=\"1.000mm\"/>\n        <rect height=\"15.000mm\" style=\"fill:black;\" width=\"0.990mm\" x=\"19.700mm\" y=\"1.000mm\"/>\n        <rect height=\"15.000mm\" style=\"fill:white;\" width=\"0.330mm\" x=\"20.690mm\" y=\"1.000mm\"/>\n        <rect height=\"15.000mm\" style=\"fill:black;\" width=\"0.330mm\" x=\"21.020mm\" y=\"1.000mm\"/>\n        <rect height=\"15.000mm\" style=\"fill:white;\" width=\"0.330mm\" x=\"21.350mm\" y=\"1.000mm\"/>\n        <rect height=\"15.000mm\" style=\"fill:black;\" width=\"0.330mm\" x=\"21.680mm\" y=\"1.000mm\"/>\n        <rect height=\"15.000mm\" style=\"fill:white;\" width=\"0.330mm\" x=\"22.010mm\" y=\"1.000mm\"/>\n        <rect height=\"15.000mm\" style=\"fill:black;\" width=\"0.330mm\" x=\"22.340mm\" y=\"1.000mm\"/>\n        <rect height=\"15.000mm\" style=\"fill:white;\" width=\"0.330mm\" x=\"22.670mm\" y=\"1.000mm\"/>\n        <rect height=\"15.000mm\" style=\"fill:black;\" width=\"0.660mm\" x=\"23.000mm\" y=\"1.000mm\"/>\n        <rect height=\"15.000mm\" style=\"fill:white;\" width=\"0.660mm\" x=\"23.660mm\" y=\"1.000mm\"/>\n        <rect height=\"15.000mm\" style=\"fill:black;\" width=\"0.660mm\" x=\"24.320mm\" y=\"1.000mm\"/>\n        <rect height=\"15.000mm\" style=\"fill:white;\" width=\"0.330mm\" x=\"24.980mm\" y=\"1.000mm\"/>\n        <rect height=\"15.000mm\" style=\"fill:black;\" width=\"0.660mm\" x=\"25.310mm\" y=\"1.000mm\"/>\n        <rect height=\"15.000mm\" style=\"fill:white;\" width=\"0.330mm\" x=\"25.970mm\" y=\"1.000mm\"/>\n        <rect height=\"15.000mm\" style=\"fill:black;\" width=\"0.660mm\" x=\"26.300mm\" y=\"1.000mm\"/>\n        <rect height=\"15.000mm\" style=\"fill:white;\" width=\"0.660mm\" x=\"26.960mm\" y=\"1.000mm\"/>\n        <rect height=\"15.000mm\" style=\"fill:black;\" width=\"0.330mm\" x=\"27.620mm\" y=\"1.000mm\"/>\n        <rect height=\"15.000mm\" style=\"fill:white;\" width=\"1.320mm\" x=\"27.950mm\" y=\"1.000mm\"/>\n        <rect height=\"15.000mm\" style=\"fill:black;\" width=\"0.330mm\" x=\"29.270mm\" y=\"1.000mm\"/>\n        <rect height=\"15.000mm\" style=\"fill:white;\" width=\"0.330mm\" x=\"29.600mm\" y=\"1.000mm\"/>\n        <rect height=\"15.000mm\" style=\"fill:black;\" width=\"0.330mm\" x=\"29.930mm\" y=\"1.000mm\"/>\n        <rect height=\"15.000mm\" style=\"fill:white;\" width=\"0.330mm\" x=\"30.260mm\" y=\"1.000mm\"/>\n        <rect height=\"15.000mm\" style=\"fill:black;\" width=\"0.990mm\" x=\"30.590mm\" y=\"1.000mm\"/>\n        <rect height=\"15.000mm\" style=\"fill:white;\" width=\"0.660mm\" x=\"31.580mm\" y=\"1.000mm\"/>\n        <rect height=\"15.000mm\" style=\"fill:black;\" width=\"0.330mm\" x=\"32.240mm\" y=\"1.000mm\"/>\n        <rect height=\"15.000mm\" style=\"fill:white;\" width=\"0.660mm\" x=\"32.570mm\" y=\"1.000mm\"/>\n        <rect height=\"15.000mm\" style=\"fill:black;\" width=\"0.990mm\" x=\"33.230mm\" y=\"1.000mm\"/>\n        <rect height=\"15.000mm\" style=\"fill:white;\" width=\"0.330mm\" x=\"34.220mm\" y=\"1.000mm\"/>\n        <rect height=\"15.000mm\" style=\"fill:black;\" width=\"0.330mm\" x=\"34.550mm\" y=\"1.000mm\"/>\n        <rect height=\"15.000mm\" style=\"fill:white;\" width=\"0.990mm\" x=\"34.880mm\" y=\"1.000mm\"/>\n        <rect height=\"15.000mm\" style=\"fill:black;\" width=\"0.330mm\" x=\"35.870mm\" y=\"1.000mm\"/>\n        <rect height=\"15.000mm\" style=\"fill:white;\" width=\"0.660mm\" x=\"36.200mm\" y=\"1.000mm\"/>\n        <rect height=\"15.000mm\" style=\"fill:black;\" width=\"0.330mm\" x=\"36.860mm\" y=\"1.000mm\"/>\n        <rect height=\"15.000mm\" style=\"fill:white;\" width=\"0.330mm\" x=\"37.190mm\" y=\"1.000mm\"/>\n        <rect height=\"15.000mm\" style=\"fill:black;\" width=\"0.330mm\" x=\"37.520mm\" y=\"1.000mm\"/>\n        <text style=\"fill:black;font-size:10pt;text-anchor:middle;\" x=\"22.175mm\" y=\"21.000mm\">5901234123457</text>\n    </g>\n</svg>"
          },
          "metadata": {
            "tags": []
          }
        }
      ]
    },
    {
      "cell_type": "code",
      "metadata": {
        "id": "P8lXof_O107Q"
      },
      "source": [
        ""
      ],
      "execution_count": null,
      "outputs": []
    }
  ]
}