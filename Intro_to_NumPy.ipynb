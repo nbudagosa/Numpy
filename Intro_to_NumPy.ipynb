{
  "nbformat": 4,
  "nbformat_minor": 0,
  "metadata": {
    "colab": {
      "name": "Intro to NumPy.ipynb",
      "provenance": []
    },
    "kernelspec": {
      "name": "python3",
      "display_name": "Python 3"
    },
    "language_info": {
      "name": "python"
    }
  },
  "cells": [
    {
      "cell_type": "markdown",
      "metadata": {
        "id": "rNFHkr4ur-Uc"
      },
      "source": [
        "**Intro to NumPy (Numeric Python)**\n",
        " \n",
        "## installation ##\n"
      ]
    },
    {
      "cell_type": "code",
      "metadata": {
        "id": "BUiV7Malq5jI"
      },
      "source": [
        "import numpy as np"
      ],
      "execution_count": 28,
      "outputs": []
    },
    {
      "cell_type": "code",
      "metadata": {
        "id": "Eqc1WsWyq8tP"
      },
      "source": [
        "usd = [29, 70, 100]"
      ],
      "execution_count": 29,
      "outputs": []
    },
    {
      "cell_type": "code",
      "metadata": {
        "colab": {
          "base_uri": "https://localhost:8080/"
        },
        "id": "_gCLgL1Vq_6e",
        "outputId": "cdfbc695-caa3-4287-ad8f-d51bc5deea0f"
      },
      "source": [
        "usd"
      ],
      "execution_count": 30,
      "outputs": [
        {
          "output_type": "execute_result",
          "data": {
            "text/plain": [
              "[29, 70, 100]"
            ]
          },
          "metadata": {
            "tags": []
          },
          "execution_count": 30
        }
      ]
    },
    {
      "cell_type": "code",
      "metadata": {
        "colab": {
          "base_uri": "https://localhost:8080/"
        },
        "id": "Jnz-1AFzrCTs",
        "outputId": "40369618-1b28-49ec-90c1-065a9f7d8544"
      },
      "source": [
        "usd * 35"
      ],
      "execution_count": 31,
      "outputs": [
        {
          "output_type": "execute_result",
          "data": {
            "text/plain": [
              "[29,\n",
              " 70,\n",
              " 100,\n",
              " 29,\n",
              " 70,\n",
              " 100,\n",
              " 29,\n",
              " 70,\n",
              " 100,\n",
              " 29,\n",
              " 70,\n",
              " 100,\n",
              " 29,\n",
              " 70,\n",
              " 100,\n",
              " 29,\n",
              " 70,\n",
              " 100,\n",
              " 29,\n",
              " 70,\n",
              " 100,\n",
              " 29,\n",
              " 70,\n",
              " 100,\n",
              " 29,\n",
              " 70,\n",
              " 100,\n",
              " 29,\n",
              " 70,\n",
              " 100,\n",
              " 29,\n",
              " 70,\n",
              " 100,\n",
              " 29,\n",
              " 70,\n",
              " 100,\n",
              " 29,\n",
              " 70,\n",
              " 100,\n",
              " 29,\n",
              " 70,\n",
              " 100,\n",
              " 29,\n",
              " 70,\n",
              " 100,\n",
              " 29,\n",
              " 70,\n",
              " 100,\n",
              " 29,\n",
              " 70,\n",
              " 100,\n",
              " 29,\n",
              " 70,\n",
              " 100,\n",
              " 29,\n",
              " 70,\n",
              " 100,\n",
              " 29,\n",
              " 70,\n",
              " 100,\n",
              " 29,\n",
              " 70,\n",
              " 100,\n",
              " 29,\n",
              " 70,\n",
              " 100,\n",
              " 29,\n",
              " 70,\n",
              " 100,\n",
              " 29,\n",
              " 70,\n",
              " 100,\n",
              " 29,\n",
              " 70,\n",
              " 100,\n",
              " 29,\n",
              " 70,\n",
              " 100,\n",
              " 29,\n",
              " 70,\n",
              " 100,\n",
              " 29,\n",
              " 70,\n",
              " 100,\n",
              " 29,\n",
              " 70,\n",
              " 100,\n",
              " 29,\n",
              " 70,\n",
              " 100,\n",
              " 29,\n",
              " 70,\n",
              " 100,\n",
              " 29,\n",
              " 70,\n",
              " 100,\n",
              " 29,\n",
              " 70,\n",
              " 100,\n",
              " 29,\n",
              " 70,\n",
              " 100,\n",
              " 29,\n",
              " 70,\n",
              " 100]"
            ]
          },
          "metadata": {
            "tags": []
          },
          "execution_count": 31
        }
      ]
    },
    {
      "cell_type": "code",
      "metadata": {
        "colab": {
          "base_uri": "https://localhost:8080/"
        },
        "id": "rlwH6K6QrD4V",
        "outputId": "bc1edeba-fec0-4e0b-884b-5426d228dcb1"
      },
      "source": [
        "t = []\n",
        "for u in usd:\n",
        "    t.append(u * 35)\n",
        "t"
      ],
      "execution_count": 32,
      "outputs": [
        {
          "output_type": "execute_result",
          "data": {
            "text/plain": [
              "[1015, 2450, 3500]"
            ]
          },
          "metadata": {
            "tags": []
          },
          "execution_count": 32
        }
      ]
    },
    {
      "cell_type": "code",
      "metadata": {
        "colab": {
          "base_uri": "https://localhost:8080/"
        },
        "id": "nnygImLdrMYP",
        "outputId": "df0acd9c-aa80-4b4b-9a99-03f162f885ca"
      },
      "source": [
        "thb = [n * 35 for n in usd]\n",
        "thb"
      ],
      "execution_count": 33,
      "outputs": [
        {
          "output_type": "execute_result",
          "data": {
            "text/plain": [
              "[1015, 2450, 3500]"
            ]
          },
          "metadata": {
            "tags": []
          },
          "execution_count": 33
        }
      ]
    },
    {
      "cell_type": "code",
      "metadata": {
        "colab": {
          "base_uri": "https://localhost:8080/"
        },
        "id": "DaK5KjeorZdN",
        "outputId": "4d3d3167-5145-4a5d-a22e-8ba96a46af1f"
      },
      "source": [
        "list(map(lambda e: e * 35, usd))"
      ],
      "execution_count": 34,
      "outputs": [
        {
          "output_type": "execute_result",
          "data": {
            "text/plain": [
              "[1015, 2450, 3500]"
            ]
          },
          "metadata": {
            "tags": []
          },
          "execution_count": 34
        }
      ]
    },
    {
      "cell_type": "code",
      "metadata": {
        "id": "hOZ-XrTsrlem"
      },
      "source": [
        "usd_a = np.array(usd)"
      ],
      "execution_count": 35,
      "outputs": []
    },
    {
      "cell_type": "code",
      "metadata": {
        "colab": {
          "base_uri": "https://localhost:8080/"
        },
        "id": "zfUeg3gcrrTH",
        "outputId": "6d7ff2ca-0251-4ff5-a100-49d615bfd5bf"
      },
      "source": [
        "usd_a * 35"
      ],
      "execution_count": 36,
      "outputs": [
        {
          "output_type": "execute_result",
          "data": {
            "text/plain": [
              "array([1015, 2450, 3500])"
            ]
          },
          "metadata": {
            "tags": []
          },
          "execution_count": 36
        }
      ]
    },
    {
      "cell_type": "code",
      "metadata": {
        "colab": {
          "base_uri": "https://localhost:8080/"
        },
        "id": "_0ZQCm1yrs7R",
        "outputId": "58cb5468-57c4-4b25-f88b-6ff6985fab08"
      },
      "source": [
        "thb_a = usd_a * 35\n",
        "np.sum(thb_a)"
      ],
      "execution_count": 37,
      "outputs": [
        {
          "output_type": "execute_result",
          "data": {
            "text/plain": [
              "6965"
            ]
          },
          "metadata": {
            "tags": []
          },
          "execution_count": 37
        }
      ]
    },
    {
      "cell_type": "markdown",
      "metadata": {
        "id": "sAvCYFqCsdkT"
      },
      "source": [
        "## **quadratic equation**"
      ]
    },
    {
      "cell_type": "code",
      "metadata": {
        "id": "Xt8M57kTryXy"
      },
      "source": [
        "x = np.array([1, 2, 3, 4, 5])\n",
        "a, b, c = (2, 7, 3)"
      ],
      "execution_count": 38,
      "outputs": []
    },
    {
      "cell_type": "code",
      "metadata": {
        "colab": {
          "base_uri": "https://localhost:8080/"
        },
        "id": "A7SZyx82suy0",
        "outputId": "162d0d75-22dd-4710-a0cc-6d9edaabe508"
      },
      "source": [
        "y = a * x**2 + b * x + c\n",
        "y"
      ],
      "execution_count": 39,
      "outputs": [
        {
          "output_type": "execute_result",
          "data": {
            "text/plain": [
              "array([12, 25, 42, 63, 88])"
            ]
          },
          "metadata": {
            "tags": []
          },
          "execution_count": 39
        }
      ]
    },
    {
      "cell_type": "code",
      "metadata": {
        "id": "gIl76dXRs4IS"
      },
      "source": [
        "import matplotlib.pyplot as plt\n",
        "%matplotlib inline"
      ],
      "execution_count": 40,
      "outputs": []
    },
    {
      "cell_type": "code",
      "metadata": {
        "colab": {
          "base_uri": "https://localhost:8080/",
          "height": 282
        },
        "id": "onpl82ess-wC",
        "outputId": "08c1ce3d-b26c-424a-b0e6-eacecbd5b3fb"
      },
      "source": [
        "plt.plot(y)"
      ],
      "execution_count": 41,
      "outputs": [
        {
          "output_type": "execute_result",
          "data": {
            "text/plain": [
              "[<matplotlib.lines.Line2D at 0x7fab8d14ff50>]"
            ]
          },
          "metadata": {
            "tags": []
          },
          "execution_count": 41
        },
        {
          "output_type": "display_data",
          "data": {
            "image/png": "[encoded data removed]",
            "text/plain": [
              "<Figure size 432x288 with 1 Axes>"
            ]
          },
          "metadata": {
            "tags": [],
            "needs_background": "light"
          }
        }
      ]
    },
    {
      "cell_type": "markdown",
      "metadata": {
        "id": "G2xjG4iYtAfW"
      },
      "source": [
        "##  **BMI** "
      ]
    },
    {
      "cell_type": "code",
      "metadata": {
        "id": "HWs2R4WmtMDH"
      },
      "source": [
        "w = [70, 60, 65, 90, 48]\n",
        "h = [170, 165, 175, 180, 167]"
      ],
      "execution_count": 42,
      "outputs": []
    },
    {
      "cell_type": "code",
      "metadata": {
        "colab": {
          "base_uri": "https://localhost:8080/"
        },
        "id": "o36eEYygtTUQ",
        "outputId": "d8488016-ca7d-40ba-9147-5906802d08d7"
      },
      "source": [
        "bmi = [weight / (height / 100) ** 2 for weight, height in zip(w, h)]\n",
        "bmi"
      ],
      "execution_count": 47,
      "outputs": [
        {
          "output_type": "execute_result",
          "data": {
            "text/plain": [
              "[24.221453287197235,\n",
              " 22.03856749311295,\n",
              " 21.224489795918366,\n",
              " 27.777777777777775,\n",
              " 17.21108680841909]"
            ]
          },
          "metadata": {
            "tags": []
          },
          "execution_count": 47
        }
      ]
    },
    {
      "cell_type": "code",
      "metadata": {
        "colab": {
          "base_uri": "https://localhost:8080/"
        },
        "id": "2NgjEAO-toAM",
        "outputId": "1a58b933-9c41-4695-badf-34193da88c47"
      },
      "source": [
        "w_a = np.array(w)\n",
        "h_a = np.array(h)\n",
        "bmi_a = w_a / (h_a / 100) ** 2\n",
        "bmi_a"
      ],
      "execution_count": 44,
      "outputs": [
        {
          "output_type": "execute_result",
          "data": {
            "text/plain": [
              "array([24.22145329, 22.03856749, 21.2244898 , 27.77777778, 17.21108681])"
            ]
          },
          "metadata": {
            "tags": []
          },
          "execution_count": 44
        }
      ]
    },
    {
      "cell_type": "code",
      "metadata": {
        "colab": {
          "base_uri": "https://localhost:8080/"
        },
        "id": "kw_BOez2t1w_",
        "outputId": "26fc3383-218f-48e1-cfb7-6d18ccba30f4"
      },
      "source": [
        "bmi_a< 25"
      ],
      "execution_count": 50,
      "outputs": [
        {
          "output_type": "execute_result",
          "data": {
            "text/plain": [
              "array([ True,  True,  True, False,  True])"
            ]
          },
          "metadata": {
            "tags": []
          },
          "execution_count": 50
        }
      ]
    },
    {
      "cell_type": "code",
      "metadata": {
        "colab": {
          "base_uri": "https://localhost:8080/"
        },
        "id": "uT9lDX8Et3xQ",
        "outputId": "ee76169d-8763-4372-d6f4-84af9d1b636a"
      },
      "source": [
        "bmi_a[bmi_a < 25]"
      ],
      "execution_count": 52,
      "outputs": [
        {
          "output_type": "execute_result",
          "data": {
            "text/plain": [
              "array([24.22145329, 22.03856749, 21.2244898 , 17.21108681])"
            ]
          },
          "metadata": {
            "tags": []
          },
          "execution_count": 52
        }
      ]
    },
    {
      "cell_type": "code",
      "metadata": {
        "id": "m_XAzhZ4vEa4"
      },
      "source": [
        ""
      ],
      "execution_count": null,
      "outputs": []
    }
  ]
}